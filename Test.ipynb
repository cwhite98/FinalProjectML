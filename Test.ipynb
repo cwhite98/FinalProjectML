{
 "cells": [
  {
   "cell_type": "code",
   "execution_count": 18,
   "metadata": {},
   "outputs": [],
   "source": [
    "#Cada columna representa un regundo de actividad del paciente.\n",
    "#Cada fila representa un paciente diferente.\n",
    "#La columna y es la categoria a la cual pertenece el paciente\n",
    "#    5 - eyes open, means when they were recording the EEG signal of the brain the patient had their eyes open \n",
    "#    4 - eyes closed, means when they were recording the EEG signal the patient had their eyes closed \n",
    "#    3 - Yes they identify where the region of the tumor was in the brain and recording the EEG activity from the healthy brain area \n",
    "#    2 - They recorder the EEG from the area where the tumor was located \n",
    "#    1 - Recording of seizure activity \n",
    "#De la categoria de 2-5 son pacientes que no sufren de epilepsia, y la 1 si. "
   ]
  },
  {
   "cell_type": "code",
   "execution_count": 19,
   "metadata": {},
   "outputs": [
    {
     "name": "stderr",
     "output_type": "stream",
     "text": [
      "/opt/miniconda/lib/python2.7/site-packages/statsmodels/nonparametric/kde.py:26: RuntimeWarning: numpy.dtype size changed, may indicate binary incompatibility. Expected 96, got 88\n",
      "  from .linbin import fast_linbin\n",
      "/opt/miniconda/lib/python2.7/site-packages/statsmodels/nonparametric/kde.py:26: RuntimeWarning: numpy.ufunc size changed, may indicate binary incompatibility. Expected 192, got 176\n",
      "  from .linbin import fast_linbin\n",
      "/opt/miniconda/lib/python2.7/site-packages/statsmodels/nonparametric/smoothers_lowess.py:11: RuntimeWarning: numpy.dtype size changed, may indicate binary incompatibility. Expected 96, got 88\n",
      "  from ._smoothers_lowess import lowess as _lowess\n",
      "/opt/miniconda/lib/python2.7/site-packages/statsmodels/nonparametric/smoothers_lowess.py:11: RuntimeWarning: numpy.ufunc size changed, may indicate binary incompatibility. Expected 192, got 176\n",
      "  from ._smoothers_lowess import lowess as _lowess\n"
     ]
    }
   ],
   "source": [
    "import numpy as np\n",
    "import matplotlib.pyplot as plt\n",
    "import pandas as pd\n",
    "from sklearn.linear_model import LogisticRegression\n",
    "from sklearn.model_selection import train_test_split\n",
    "from sklearn.metrics import classification_report\n",
    "from sklearn.svm import SVC\n",
    "from sklearn.metrics import confusion_matrix\n",
    "import seaborn as sns\n",
    "sns.set(style=\"white\")\n",
    "sns.set(style=\"whitegrid\", color_codes=True)\n",
    "import itertools"
   ]
  },
  {
   "cell_type": "code",
   "execution_count": 20,
   "metadata": {},
   "outputs": [],
   "source": [
    "data = pd.read_csv(\"Data/data.csv\")\n",
    "del data[\"Unnamed: 0\"]#borrando primera columna, correspondiente a la identificacion del paciente"
   ]
  },
  {
   "cell_type": "code",
   "execution_count": 21,
   "metadata": {},
   "outputs": [
    {
     "data": {
      "text/plain": [
       "0"
      ]
     },
     "execution_count": 21,
     "metadata": {},
     "output_type": "execute_result"
    }
   ],
   "source": [
    "np.sum(np.sum(data.isna())) # checking for nan values"
   ]
  },
  {
   "cell_type": "code",
   "execution_count": 27,
   "metadata": {},
   "outputs": [],
   "source": [
    "def plot_confusion_matrix(cm, classes,\n",
    "                          normalize=False,\n",
    "                          title='Confusion matrix',\n",
    "                          cmap=plt.cm.Blues):\n",
    "    \"\"\"\n",
    "    This function prints and plots the confusion matrix.\n",
    "    Normalization can be applied by setting `normalize=True`.\n",
    "    \"\"\"\n",
    "    #if normalize:\n",
    "    #    cm = cm.astype('float') / cm.sum(axis=1)[:, np.newaxis]\n",
    "    #    print(\"Normalized confusion matrix\")\n",
    "    #else:\n",
    "    #    print('Confusion matrix, without normalization')\n",
    "\n",
    "    #print(cm)\n",
    "\n",
    "    plt.imshow(cm, interpolation='nearest', cmap=cmap)\n",
    "    plt.title(title)\n",
    "    plt.colorbar()\n",
    "    tick_marks = np.arange(len(classes))\n",
    "    plt.xticks(tick_marks, classes, rotation=45)\n",
    "    plt.yticks(tick_marks, classes)\n",
    "\n",
    "    fmt = '.2f' if normalize else 'd'\n",
    "    thresh = cm.max() / 2.\n",
    "    for i, j in itertools.product(range(cm.shape[0]), range(cm.shape[1])):\n",
    "        plt.text(j, i, format(cm[i, j], fmt),\n",
    "                 horizontalalignment=\"center\",\n",
    "                 color=\"white\" if cm[i, j] > thresh else \"black\")\n",
    "\n",
    "    plt.ylabel('True label')\n",
    "    plt.xlabel('Predicted label')\n",
    "    plt.tight_layout()"
   ]
  },
  {
   "cell_type": "code",
   "execution_count": 28,
   "metadata": {},
   "outputs": [],
   "source": [
    "def logisticRegression(X, y):\n",
    "    Xtr, Xts, ytr, yts = train_test_split(X,y,test_size=0.3)\n",
    "    clf = LogisticRegression(solver='lbfgs', multi_class='ovr')\n",
    "    clf.fit(Xtr, ytr)\n",
    "    acc = clf.score(Xts, yts)\n",
    "    predicts = clf.predict(Xts)\n",
    "    print \"Logistic regression reports:\\n\", classification_report(yts, predicts)\n",
    "    print \"Logistic regression accuracy:\", acc\n",
    "    return confusion_matrix(yts, predicts)"
   ]
  },
  {
   "cell_type": "code",
   "execution_count": 24,
   "metadata": {},
   "outputs": [],
   "source": [
    "def svm(X, y):\n",
    "    print \"calculating...\"\n",
    "    Xtr, Xts, ytr, yts = train_test_split(X,y,test_size=0.3)\n",
    "    clf = SVC(kernel=\"poly\", degree=2)\n",
    "    clf.fit(Xtr, ytr)\n",
    "    acc = clf.score(Xts, yts)\n",
    "    predicts = clf.predict(Xts)\n",
    "    print \"SVM reports:\\n\", classification_report(yts, predicts)\n",
    "    print \"SVM accuracy:\", acc"
   ]
  },
  {
   "cell_type": "code",
   "execution_count": 30,
   "metadata": {},
   "outputs": [
    {
     "name": "stdout",
     "output_type": "stream",
     "text": [
      "Logistic regression reports:\n",
      "             precision    recall  f1-score   support\n",
      "\n",
      "          1       0.75      0.32      0.45       678\n",
      "          2       0.11      0.02      0.04       696\n",
      "          3       0.08      0.01      0.02       699\n",
      "          4       0.20      0.21      0.20       663\n",
      "          5       0.28      0.87      0.43       714\n",
      "\n",
      "avg / total       0.28      0.29      0.23      3450\n",
      "\n",
      "Logistic regression accuracy: 0.29130434782608694\n"
     ]
    },
    {
     "data": {
      "image/png": "[encoded data removed]",
      "text/plain": [
       "<Figure size 432x288 with 2 Axes>"
      ]
     },
     "metadata": {},
     "output_type": "display_data"
    }
   ],
   "source": [
    "X = data\n",
    "y = data[\"y\"]\n",
    "conf_matrix = logisticRegression(X, y)\n",
    "plt.figure()\n",
    "plot_confusion_matrix(conf_matrix, classes=['1', '2', '3', '4', '5'], title='Confusion matrix')\n",
    "plt.show()"
   ]
  },
  {
   "cell_type": "code",
   "execution_count": 26,
   "metadata": {},
   "outputs": [
    {
     "name": "stdout",
     "output_type": "stream",
     "text": [
      "calculating...\n",
      "SVM reports:\n",
      "             precision    recall  f1-score   support\n",
      "\n",
      "          1       0.92      0.90      0.91       683\n",
      "          2       0.49      0.56      0.52       717\n",
      "          3       0.51      0.50      0.51       701\n",
      "          4       0.71      0.72      0.71       673\n",
      "          5       0.63      0.54      0.58       676\n",
      "\n",
      "avg / total       0.65      0.64      0.64      3450\n",
      "\n",
      "SVM accuracy: 0.6428985507246376\n"
     ]
    }
   ],
   "source": [
    "svm(X, y)"
   ]
  },
  {
   "cell_type": "code",
   "execution_count": null,
   "metadata": {},
   "outputs": [],
   "source": []
  }
 ],
 "metadata": {
  "kernelspec": {
   "display_name": "Python 2",
   "language": "python",
   "name": "python2"
  },
  "language_info": {
   "codemirror_mode": {
    "name": "ipython",
    "version": 2
   },
   "file_extension": ".py",
   "mimetype": "text/x-python",
   "name": "python",
   "nbconvert_exporter": "python",
   "pygments_lexer": "ipython2",
   "version": "2.7.14"
  }
 },
 "nbformat": 4,
 "nbformat_minor": 2
}
